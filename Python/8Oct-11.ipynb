{
 "cells": [
  {
   "cell_type": "code",
   "execution_count": 13,
   "metadata": {},
   "outputs": [
    {
     "name": "stdout",
     "output_type": "stream",
     "text": [
      "Enter the number of rows you want: 9\n",
      "         *\n",
      "        * *\n",
      "       *   *\n",
      "      *     *\n",
      "     *       *\n",
      "    *         *\n",
      "   *           *\n",
      "  *             *\n",
      " * * * * * * * * *"
     ]
    }
   ],
   "source": [
    "# Python program to print a hollow  \n",
    "# pyramid pattern \n",
    "  \n",
    "def pattern() : \n",
    "    k = 0\n",
    "    n=int(input('Enter the number of rows you want: '))\n",
    "    for i in range(1,n) : \n",
    "      \n",
    "        # Print spaces \n",
    "        for j in range(i,n+1) : \n",
    "            print(' ', end='') \n",
    "          \n",
    "        # Print * \n",
    "        while (k != (2 * i - 1)) :\n",
    "            \n",
    "            if (k == 0 or k == 2 * i - 2) : \n",
    "                print('*', end='') \n",
    "            \n",
    "            else : \n",
    "                print(' ', end ='') \n",
    "            \n",
    "            k = k + 1\n",
    "        k = 0; \n",
    "        \n",
    "        print (\"\") # print next row \n",
    "          \n",
    "    # print last row \n",
    "    for i in range(0, 2*n) :\n",
    "        \n",
    "        if i%2==0:\n",
    "            print(' ', end ='')\n",
    "        \n",
    "        else:\n",
    "            print ('*', end = '') \n",
    "  \n",
    "    \n",
    "pattern()"
   ]
  },
  {
   "cell_type": "code",
   "execution_count": null,
   "metadata": {},
   "outputs": [],
   "source": []
  }
 ],
 "metadata": {
  "kernelspec": {
   "display_name": "Python 3",
   "language": "python",
   "name": "python3"
  },
  "language_info": {
   "codemirror_mode": {
    "name": "ipython",
    "version": 3
   },
   "file_extension": ".py",
   "mimetype": "text/x-python",
   "name": "python",
   "nbconvert_exporter": "python",
   "pygments_lexer": "ipython3",
   "version": "3.7.6"
  }
 },
 "nbformat": 4,
 "nbformat_minor": 4
}
